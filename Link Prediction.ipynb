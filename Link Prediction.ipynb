{
 "cells": [
  {
   "cell_type": "code",
   "execution_count": 16,
   "metadata": {},
   "outputs": [],
   "source": [
    "import networkx as nx\n",
    "import math\n",
    "import matplotlib.pyplot as plt  "
   ]
  },
  {
   "cell_type": "markdown",
   "metadata": {},
   "source": [
    "## Graph Input"
   ]
  },
  {
   "cell_type": "code",
   "execution_count": 17,
   "metadata": {},
   "outputs": [
    {
     "data": {
      "image/png": "[encoded data removed]",
      "text/plain": [
       "<Figure size 360x360 with 1 Axes>"
      ]
     },
     "metadata": {},
     "output_type": "display_data"
    }
   ],
   "source": [
    "#G = nx.karate_club_graph()\n",
    "G = nx.Graph()\n",
    "G.add_edges_from([(1, 2), (1, 3), (1, 4), (3, 4), (4, 5)])\n",
    "plt.figure(figsize =(5, 5))\n",
    "nx.draw_networkx(G, with_labels = True)"
   ]
  },
  {
   "cell_type": "markdown",
   "metadata": {},
   "source": [
    "## 1- Adamic Adar Index"
   ]
  },
  {
   "cell_type": "code",
   "execution_count": 18,
   "metadata": {},
   "outputs": [
    {
     "name": "stdout",
     "output_type": "stream",
     "text": [
      "Adamic Adar Index Calculated\n",
      "1 - 5   0.9102392266268373\n",
      "2 - 3   0.9102392266268373\n",
      "2 - 4   0.9102392266268373\n",
      "2 - 5   0\n",
      "3 - 5   0.9102392266268373\n"
     ]
    }
   ],
   "source": [
    "AAI={}\n",
    "n = int()\n",
    "neighbour = {}\n",
    "for node in G:\n",
    "    neighbour[node] = list(G.neighbors(node))\n",
    "common_neighbour={}\n",
    "for nodes1 in G:\n",
    "    for nodes2 in G:\n",
    "        if f\"{nodes2} - {nodes1}\" not in AAI:\n",
    "            if nodes1 != nodes2 and not G.has_edge(nodes1,nodes2):\n",
    "                x = list(set(neighbour[nodes1]) & set(neighbour[nodes2]))\n",
    "                result=0\n",
    "                if len(x) != 0:\n",
    "                    for item in x:\n",
    "                        if len(neighbour[item]) != 1:\n",
    "                            result = result + (1/math.log(len(neighbour[item])))\n",
    "            \n",
    "                AAI[f\"{nodes1} - {nodes2}\"] = result\n",
    "print(\"Adamic Adar Index Calculated\")\n",
    "for n in AAI:\n",
    "    print(n, \" \" ,AAI[n])\n",
    "\n",
    "    "
   ]
  },
  {
   "cell_type": "markdown",
   "metadata": {},
   "source": [
    "## 2- Jaccard Coefficient"
   ]
  },
  {
   "cell_type": "code",
   "execution_count": 19,
   "metadata": {},
   "outputs": [
    {
     "name": "stdout",
     "output_type": "stream",
     "text": [
      "Jaccard Coefficient Calculated\n",
      "1 - 5   0.3333333333333333\n",
      "2 - 3   0.5\n",
      "2 - 4   0.3333333333333333\n",
      "2 - 5   0.0\n",
      "3 - 5   0.5\n"
     ]
    }
   ],
   "source": [
    "J={}\n",
    "n = int()\n",
    "neighbour = {}\n",
    "for node in G:\n",
    "    neighbour[node] = list(G.neighbors(node))\n",
    "#print(neighbour)\n",
    "common_neighbour={}\n",
    "for nodes1 in G:\n",
    "    for nodes2 in G:\n",
    "        if f\"{nodes2} - {nodes1}\" not in J:\n",
    "            if nodes1 != nodes2 and not G.has_edge(nodes1,nodes2):\n",
    "                x = list(set(neighbour[nodes1]) & set(neighbour[nodes2]))\n",
    "                y = list(set(neighbour[nodes1]) | set(neighbour[nodes2]))\n",
    "                result=0\n",
    "                if len(y) != 0:\n",
    "                    result = len(x)/len(y)\n",
    "                J[f\"{nodes1} - {nodes2}\"] = result\n",
    "print(\"Jaccard Coefficient Calculated\")\n",
    "for n in J:\n",
    "    print(n, \" \" ,J[n])\n",
    "# print(common_neighbour)\n",
    "        \n"
   ]
  },
  {
   "cell_type": "markdown",
   "metadata": {},
   "source": [
    "## 3 - Preferential Attachment"
   ]
  },
  {
   "cell_type": "code",
   "execution_count": 20,
   "metadata": {},
   "outputs": [
    {
     "name": "stdout",
     "output_type": "stream",
     "text": [
      "Preferential Attachment Calculated\n",
      "1 - 5   3\n",
      "2 - 3   2\n",
      "2 - 4   3\n",
      "2 - 5   1\n",
      "3 - 5   2\n"
     ]
    }
   ],
   "source": [
    "P={}\n",
    "n = int()\n",
    "neighbour = {}\n",
    "for node in G:\n",
    "    neighbour[node] = list(G.neighbors(node))\n",
    "#print(neighbour)\n",
    "common_neighbour={}\n",
    "for nodes1 in G:\n",
    "    for nodes2 in G:\n",
    "        if f\"{nodes2} - {nodes1}\" not in P:\n",
    "            if nodes1 != nodes2 and not G.has_edge(nodes1,nodes2):\n",
    "                x = list(set(neighbour[nodes1]))\n",
    "                y = list(set(neighbour[nodes2]))\n",
    "                result=0\n",
    "                if len(y) != 0:\n",
    "                    result = len(x)*len(y)\n",
    "                P[f\"{nodes1} - {nodes2}\"] = result\n",
    "print(\"Preferential Attachment Calculated\")\n",
    "for n in P:\n",
    "    print(n, \" \" ,P[n])\n",
    "# print(common_neighbour)\n",
    "        "
   ]
  },
  {
   "cell_type": "markdown",
   "metadata": {},
   "source": [
    "## 4 - Resource Allocation Index"
   ]
  },
  {
   "cell_type": "code",
   "execution_count": null,
   "metadata": {},
   "outputs": [],
   "source": [
    "print(\"Resource Allocation Index Function\")\n",
    "n = int()\n",
    "for n in nx.resource_allocation_index(G):\n",
    "    print(n)\n",
    "        \n",
    "R={}\n",
    "n = int()\n",
    "neighbour = {}\n",
    "for node in G:\n",
    "    neighbour[node] = list(G.neighbors(node))\n",
    "common_neighbour={}\n",
    "for nodes1 in G:\n",
    "    for nodes2 in G:\n",
    "        if f\"{nodes2} - {nodes1}\" not in P:\n",
    "            if nodes1 != nodes2 and not G.has_edge(nodes1,nodes2):\n",
    "                x = list(set(neighbour[nodes1]) & set(neighbour[nodes2]))\n",
    "                result=0\n",
    "                if len(x) != 0:\n",
    "                    for item in x:\n",
    "                        if len(neighbour[item]) != 1:\n",
    "                            result = result + (1/len(neighbour[item]))\n",
    "                R[f\"{nodes1} - {nodes2}\"] = result\n",
    "print(\"Resource Allocation Index Calculated\")\n",
    "for n in R:\n",
    "    print(n, \" \" ,R[n])\n"
   ]
  },
  {
   "cell_type": "markdown",
   "metadata": {},
   "source": [
    "## 5 - Cosine Similarity"
   ]
  },
  {
   "cell_type": "code",
   "execution_count": null,
   "metadata": {},
   "outputs": [],
   "source": [
    "n = int()\n",
    "neighbour = {}\n",
    "for node in G:\n",
    "    neighbour[node] = list(G.neighbors(node))\n",
    "C={}\n",
    "for nodes1 in G:\n",
    "    for nodes2 in G:\n",
    "        if f\"{nodes2} - {nodes1}\" not in P:\n",
    "            if nodes1 != nodes2 and not G.has_edge(nodes1,nodes2):\n",
    "                intr = list(set(neighbour[nodes1]) & set(neighbour[nodes2]))\n",
    "                result=0\n",
    "                kx= len(list(set(neighbour[nodes1])))\n",
    "                ky= len(list(set(neighbour[nodes2])))\n",
    "                if len(intr) != 0:\n",
    "                    result = result + (len(intr)/math.sqrt(kx*ky))\n",
    "                C[f\"{nodes1} - {nodes2}\"] = result\n",
    "print(\"Cosine Similarity Calculated\")\n",
    "for n in C:\n",
    "    print(n, \" \" ,C[n])"
   ]
  },
  {
   "cell_type": "code",
   "execution_count": null,
   "metadata": {},
   "outputs": [],
   "source": []
  },
  {
   "cell_type": "code",
   "execution_count": null,
   "metadata": {},
   "outputs": [],
   "source": []
  }
 ],
 "metadata": {
  "kernelspec": {
   "display_name": "Python 3",
   "language": "python",
   "name": "python3"
  },
  "language_info": {
   "codemirror_mode": {
    "name": "ipython",
    "version": 3
   },
   "file_extension": ".py",
   "mimetype": "text/x-python",
   "name": "python",
   "nbconvert_exporter": "python",
   "pygments_lexer": "ipython3",
   "version": "3.7.5"
  }
 },
 "nbformat": 4,
 "nbformat_minor": 4
}
